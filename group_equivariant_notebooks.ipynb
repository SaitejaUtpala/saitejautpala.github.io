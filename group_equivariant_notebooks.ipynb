{
 "cells": [
  {
   "cell_type": "markdown",
   "metadata": {},
   "source": [
    "# **Regular Group Equivariant Convolution Neural Networks with pytorch and einops**\n",
    "\n",
    "\n",
    "Regular Group Convolution Neural Networks are extremely simple to implement. 'Regular' represents kind of \n",
    "representation used in convolution layers. Other way that is better scalable is Steerable CNNs. we would need to work on 5,6 dimensional \n",
    "tensors, it becomes hard to keep track what different dimensions stand for. So we will use  einops for manipulating tensors in readable way"
   ]
  },
  {
   "cell_type": "code",
   "execution_count": 5,
   "metadata": {},
   "outputs": [],
   "source": [
    "import torch\n",
    "import torch.nn as nn\n",
    "import torch.nn.functional as F\n",
    "from einops import rearrange"
   ]
  },
  {
   "cell_type": "markdown",
   "metadata": {},
   "source": [
    "#### <u>**Group P4**</u>  \n",
    "\n",
    "P4 is Discrete Rotation-Translation group. Rotations are done at ${0, 90, 180, 270}$ degrees and translations are done by elements in $\\mathbb{Z}^2$. P4 can be seen as 4 copies \n",
    "of $\\mathbb{Z}^{2}.$ Hence, we can describe group in 3 parameters. There are many equivalent(homomorphically) ways to describe the group\n",
    "\n",
    " 1) $$\\displaystyle P4_{1} =  \\left\\{ 0 , 1, 2, 3 \\right\\} \\times \\mathbb{Z}^2 $$\n",
    "\n",
    " * $\\text{ with group operation  being} \\,\\, (r,x,y) . (r',x', y') = \\left(r+r'\\,\\, \\text{mod} \\,\\, 4 \\,\\,, x+x',\\,\\, y+y'  \\right)$\n",
    " * $\\text{ with inverse being } (r,x,y)^{-1} = ((4-r)\\text{mod} \\,\\, 4, -x, -y) $\n",
    " \n",
    "  <br> </br>\n",
    "  \n",
    " 2) $P4_{2} = \\left\\{ \\begin{bmatrix}\n",
    "    \\cos(r \\frac{\\pi}{2}) & -\\sin(r \\frac{\\pi}{2}) & u  \\\\\n",
    "     \\sin(r \\frac{\\pi}{2}) & \\cos(r \\frac{\\pi}{2}) & v \\\\\n",
    "     0 & 0 & 1 \n",
    "    \\end{bmatrix} \\Big| r \\in [0,1,2,3], (u,v) \\in \\mathbb{Z}^2 \\right\\}$\n",
    "\n",
    "  *  with group operation  being matrix multiplication\n",
    "  *  with inverse being matrix inverse\n",
    "\n",
    "    \n",
    "    \n",
    "*claim:* $P4_{1} \\cong P4_{2}$ \n",
    "\n",
    "\n",
    "\n",
    "Although first way of describing the group is much easier and intuitive and clearly explains cyclic shifting for rotation coordinates (this becomes crucial while implementing stuff). we will see that second way to describe the group helps in writing group action simpler\n",
    "\n",
    "\n",
    "\n",
    "\n",
    "##### Group Action of P4 on $\\mathbb{Z}^2$ \n",
    "\n",
    "P4 acts on $\\mathbb{Z}^2$ in intutitive manner. Given $(r, x, y) \\in $ P4 and $(x', y') \\in \\mathbb{Z}^2.$ Action of group can visualized as rotating $(x',y')$ by $r \\frac{\\pi}{2}$ around center of grid and then translating it by $(x,y).$ To write this algebrically would be better with $P4_{2}$\n",
    "\n",
    "$ \\odot : P{4}_{2} \\times \\mathbb{Z}^2 \\rightarrow   \\mathbb{Z}^2 \\times \\{1\\} \\cong \\mathbb{Z}^2$\n",
    "\n",
    "\n",
    "$\\begin{bmatrix}\n",
    "    \\cos(r \\frac{\\pi}{2}) & -\\sin(r \\frac{\\pi}{2}) & u  \\\\\n",
    "     \\sin(r \\frac{\\pi}{2}) & \\cos(r \\frac{\\pi}{2}) & v \\\\\n",
    "     0 & 0 & 1 \n",
    "    \\end{bmatrix} \\odot \\begin{bmatrix} u' \\\\ v' \\end{bmatrix} = \\begin{bmatrix}\n",
    "    \\cos(r \\frac{\\pi}{2}) & -\\sin(r \\frac{\\pi}{2}) & u  \\\\\n",
    "     \\sin(r \\frac{\\pi}{2}) & \\cos(r \\frac{\\pi}{2}) & v \\\\\n",
    "     0 & 0 & 1 \n",
    "    \\end{bmatrix} \\begin{bmatrix} u' \\\\ v' \\\\1 \\end{bmatrix}$\n",
    "\n",
    "\n",
    "\n",
    "\n",
    "##### Group Action of P4 on functions from  $\\mathbb{Z}^2 \\rightarrow \\mathbb{R}^{\\ell}$\n",
    "\n",
    "Let $F(\\mathbb{Z}^2, \\mathbb{R}^{\\ell}) = \\{f: \\mathbb{Z}^2 \\rightarrow \\mathbb{R}^{\\ell} \\}$. Then most basic group action $\\odot : \\text{P4} \\times F(\\mathbb{Z}^2, \\mathbb{R}^{\\ell}) \\rightarrow  F(\\mathbb{Z}^2, \\mathbb{R}^{\\ell})$ of $\\text{P4}$ on $F$ is given by\n",
    "\n",
    "$(r,x,y) \\odot f = f \\circ a$ where $a_{r,x,y}(x',y') = (r, x ,y)^{-1} \\odot ()$\n",
    "\n",
    "\n",
    "\n",
    "\n",
    "##### Group Action of P4 on functions from $\\text{P4} \\rightarrow \\mathbb{R}^{\\ell}$\n",
    "\n",
    "\n",
    "\n",
    "\n",
    "\n",
    "### <u>**P4 Convolution and Correlation**</u>\n",
    "\n",
    "given kernel $k : \\mathbb{Z}^2 \\rightarrow \\mathbb{R}$ and function $f: \\mathbb{Z}^2 \\rightarrow \\mathbb{R}$, convolution  would generate a function $conv : \\text{P4} \\rightarrow \\mathbb{R}$\n",
    "\n",
    "\n",
    "\n",
    "\n",
    "<!-- | $r$      | $r'$        | $r^{new} = (4-r+r') \\, \\, \\text{mod} \\, \\, 4$     |    \n",
    "| :---     |    :----:   |    ---: |\n",
    "| 0        | 0           | 0       |\n",
    "| 0        | 1           | 1       |\n",
    "| 0        | 2           | 2       |\n",
    "| 0        | 3           | 3       |\n",
    "\n",
    "\n",
    "|  $r$     | $r'$        | $r^{new} = (4-r+r') \\, \\, \\text{mod} \\, \\, 4$     |    \n",
    "| :---     |    :----:   |    ---: |\n",
    "| 1        | 0           | 3       |\n",
    "| 1        | 1           | 0       |\n",
    "| 1        | 2           | 1       |\n",
    "| 1        | 3           | 2       |\n",
    "\n",
    "|  $r$     | $r'$        | $r^{new} = (4-r+r') \\, \\, \\text{mod} \\, \\, 4$     |    \n",
    "| :---     |    :----:   |    ---: |\n",
    "| 2        | 0           | 2       |\n",
    "| 2        | 1           | 3       |\n",
    "| 2        | 2           | 0       |\n",
    "| 2        | 3           | 1       |\n",
    "\n",
    "|  $r$     | $r'$        | $r^{new} = (4-r+r') \\, \\, \\text{mod} \\, \\, 4$     |    \n",
    "| :---     |    :----:   |    ---: |\n",
    "| 3        | 0           | 1       |\n",
    "| 3        | 1           | 2       |\n",
    "| 3        | 2           | 3       |\n",
    "| 3        | 3           | 0       | -->\n",
    "\n",
    "### **Efficient Implementation : Exploiting semi direct product group structure of P4**\n",
    "\n",
    "\n"
   ]
  },
  {
   "cell_type": "markdown",
   "metadata": {},
   "source": [
    "#### Lifting Convolution"
   ]
  },
  {
   "cell_type": "code",
   "execution_count": 7,
   "metadata": {},
   "outputs": [],
   "source": [
    "class P4LiftingConvolution(nn.Module):\n",
    "    def __init__(self, in_channels, out_channels, kernel_size):\n",
    "        super().__init__()\n",
    "        self.group_size = 4\n",
    "        w = torch.empty(out_channels, in_channels, self.group_size, kernel_size, kernel_size)\n",
    "        nn.init.kaiming_uniform_(w, a=(5 ** 0.5))\n",
    "        self.weights = nn.parameter(w)\n",
    "            \n",
    "    def forward(self, input):\n",
    "        input = rearrange(input, 'b i h w')\n",
    "        rotated_kernel = rearrange([torch.rot90(self.weights, r, (-2,-1)) for r in range(4)], 'o i g k k -> (g o) i k k')\n",
    "        output = rearrange(F.conv2d(input, rotated_kernel), '(b g) o h w ->  b o g h w ', g=self.group_size)\n",
    "        return output"
   ]
  },
  {
   "cell_type": "markdown",
   "metadata": {},
   "source": [
    "#### Group Convolution"
   ]
  },
  {
   "cell_type": "code",
   "execution_count": 10,
   "metadata": {},
   "outputs": [],
   "source": [
    "class P4GroupConvolution(nn.Module):\n",
    "    def __init__(self, in_channels, out_channels, kernel_size):\n",
    "        super().__init__()\n",
    "        self.group_size = 4\n",
    "        w = torch.empty(out_channels, in_channels, self.group_size,  kernel_size, kernel_size)\n",
    "        nn.init.kaiming_uniform_(w, a=(5 ** 0.5))\n",
    "        self.weights = nn.parameter(w)\n",
    "\n",
    "    def forward(self, input):\n",
    "        input = rearrange(input, 'b i g h w -> b (i g) h w')\n",
    "        rotated_permuted_kernel= [ torch.rot90(torch.roll(self.weights, r , -3)  , r, (-2, -1)) for r in range(4) ]\n",
    "        rotated_permuted_kernel= rearrange(rotated_permuted_kernel, 's o i g k k -> (s o) (i g) k k')\n",
    "        output = rearrange(F.conv2d(input, rotated_permuted_kernel),'(b g) o h w -> b o g h w' ) \n",
    "        return output"
   ]
  },
  {
   "cell_type": "markdown",
   "metadata": {},
   "source": [
    "#### **P4 Pooling**\n",
    "\n",
    "* Coset Pooling $\\displaystyle Pf(g) = \\max_{g \\in gH} f(k)$ and $P : G \\rightarrow G/H$\n",
    "\n",
    "Let R be subgroup of four rotations around origin $R= \\{ (0,0,0), (1,0,0), (2,0,0), (3,0,0) \\}$ \n",
    "\n",
    "*claim:* $P/R \\cong \\mathbb{Z}^2$\n",
    "\n"
   ]
  },
  {
   "cell_type": "code",
   "execution_count": 57,
   "metadata": {},
   "outputs": [],
   "source": [
    "class P4Pooling(nn.Module):\n",
    "    def forward(self, input):\n",
    "        return F.max(input,0)"
   ]
  },
  {
   "cell_type": "code",
   "execution_count": 55,
   "metadata": {},
   "outputs": [
    {
     "name": "stdout",
     "output_type": "stream",
     "text": [
      "torch.Size([2, 2, 2, 2, 2])\n"
     ]
    }
   ],
   "source": [
    "w_filters = torch.cat([torch.ones(2,2,2,2), torch.zeros(2,2,2,2)])\n",
    "ans = torch.stack(w_filters.split(2))\n",
    "print(ans.shape)"
   ]
  },
  {
   "cell_type": "code",
   "execution_count": 32,
   "metadata": {},
   "outputs": [
    {
     "name": "stdout",
     "output_type": "stream",
     "text": [
      "tensor([[[[1., 1.],\n",
      "          [1., 1.]],\n",
      "\n",
      "         [[1., 1.],\n",
      "          [1., 1.]]],\n",
      "\n",
      "\n",
      "        [[[0., 0.],\n",
      "          [0., 0.]],\n",
      "\n",
      "         [[0., 0.],\n",
      "          [0., 0.]]],\n",
      "\n",
      "\n",
      "        [[[1., 1.],\n",
      "          [1., 1.]],\n",
      "\n",
      "         [[1., 1.],\n",
      "          [1., 1.]]],\n",
      "\n",
      "\n",
      "        [[[0., 0.],\n",
      "          [0., 0.]],\n",
      "\n",
      "         [[0., 0.],\n",
      "          [0., 0.]]]])\n"
     ]
    }
   ],
   "source": [
    "w_filters = torch.cat([torch.ones(2,2,2,2), torch.zeros(2,2,2,2)], 1).view(-1, 2, 2, 2)\n",
    "print(w_filters)"
   ]
  },
  {
   "cell_type": "code",
   "execution_count": 2,
   "metadata": {},
   "outputs": [],
   "source": [
    "class GroupConvolution1(torch.nn.Module):\n",
    "    def __init__(self, D_in, H, D_out):\n",
    "        super(GroupConvolution1, self).__init__()\n",
    "\n",
    "    def forward(self, input):\n",
    "        return input"
   ]
  },
  {
   "cell_type": "markdown",
   "metadata": {},
   "source": [
    "STASH\n",
    "\n",
    "group operation :\n",
    "\n",
    "$g(r,u,v) \\odot (u', v') =  \\begin{bmatrix}\n",
    "    \\cos(r \\frac{\\pi}{2}) & -\\sin(r \\frac{\\pi}{2}) & u  \\\\\n",
    "     \\sin(r \\frac{\\pi}{2}) & \\cos(r \\frac{\\pi}{2}) & v \\\\\n",
    "     0 & 0 & 1 \n",
    "    \\end{bmatrix} \\begin{bmatrix} u' \\\\ v' \\\\1 \\end{bmatrix}$ $0 \\leq r < 4$ and $(u,v) \\in \\mathbb{Z}^2$\n",
    "\n",
    "\n",
    "    \n",
    "\n",
    "Action of Group P4 on $\\mathbb{Z}^2$ (not sure but probably discretized)\n",
    "\n",
    "\n",
    "\n",
    "\n",
    "Action of Group P4m on $\\mathbb{Z}^2$\n",
    "\n",
    "$g(m, r, u, v) = \\begin{bmatrix} \n",
    "(-1)^m \\cos(r\\frac{\\pi}{2}) & (-1)^m \\sin(r \\frac{\\pi}{2}) & u \\\\\n",
    "\\sin(r \\frac{\\pi}{2}) & \\cos(r \\frac{\\pi}{2}) &  v  \\\\\n",
    "0 & 0 & 1 \n",
    " \\end{bmatrix}$\n",
    "\n",
    "Action of Group P4m on $\\mathbb{Z}^2$\n",
    "\n",
    "$g \\odot(u', v') = \\begin{bmatrix} \n",
    "(-1)^m \\cos(r\\frac{\\pi}{2}) & (-1)^m \\sin(r \\frac{\\pi}{2}) & u \\\\\n",
    "\\sin(r \\frac{\\pi}{2}) & \\cos(r \\frac{\\pi}{2}) &  v  \\\\\n",
    "0 & 0 & 1 \n",
    " \\end{bmatrix}\\begin{bmatrix} u' \\\\ v' \\\\1 \\end{bmatrix} $\n"
   ]
  }
 ],
 "metadata": {
  "interpreter": {
   "hash": "1ec97232e8cf621a83df66675202735693aaf97ce3ae5a5ad95380fe5aef9418"
  },
  "kernelspec": {
   "display_name": "Python 3.9.7 64-bit ('geomstats39': conda)",
   "language": "python",
   "name": "python3"
  },
  "language_info": {
   "codemirror_mode": {
    "name": "ipython",
    "version": 3
   },
   "file_extension": ".py",
   "mimetype": "text/x-python",
   "name": "python",
   "nbconvert_exporter": "python",
   "pygments_lexer": "ipython3",
   "version": "3.7.11"
  },
  "orig_nbformat": 4
 },
 "nbformat": 4,
 "nbformat_minor": 2
}
